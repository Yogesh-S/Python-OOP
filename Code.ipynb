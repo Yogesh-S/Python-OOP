{
 "cells": [
  {
   "cell_type": "markdown",
   "metadata": {},
   "source": [
    "# Defining Class"
   ]
  },
  {
   "cell_type": "code",
   "execution_count": 1,
   "metadata": {},
   "outputs": [],
   "source": [
    "# Write the class Point as outlined in the instructions\n",
    "class Point:\n",
    "\n",
    "    def __init__(self, x = 0., y = 0.):\n",
    "        self.x = x\n",
    "        self.y = y\n",
    "        self.distance = 0.\n",
    "    \n",
    "    def distance_to_origin(self):\n",
    "        return (self.x**2 + self.y**2)**.5\n",
    "\n",
    "    def reflect(self, axis):\n",
    "        self.axis = axis\n",
    "        if self.axis == \"x\":\n",
    "            self.y = -self.y\n",
    "        elif self.axis == \"y\":\n",
    "            self.x = -self.x\n",
    "        else:\n",
    "            print(\"Invalid value\")"
   ]
  },
  {
   "cell_type": "code",
   "execution_count": 2,
   "metadata": {},
   "outputs": [
    {
     "name": "stdout",
     "output_type": "stream",
     "text": [
      "(-3.0, 0.0)\n",
      "5.0\n"
     ]
    }
   ],
   "source": [
    "pt = Point(x=3.0)\n",
    "pt.reflect(\"y\")\n",
    "print((pt.x, pt.y))\n",
    "pt.y = 4.0\n",
    "print(pt.distance_to_origin())"
   ]
  }
 ],
 "metadata": {
  "kernelspec": {
   "display_name": "Python 3",
   "language": "python",
   "name": "python3"
  },
  "language_info": {
   "codemirror_mode": {
    "name": "ipython",
    "version": 3
   },
   "file_extension": ".py",
   "mimetype": "text/x-python",
   "name": "python",
   "nbconvert_exporter": "python",
   "pygments_lexer": "ipython3",
   "version": "3.7.3"
  }
 },
 "nbformat": 4,
 "nbformat_minor": 4
}
